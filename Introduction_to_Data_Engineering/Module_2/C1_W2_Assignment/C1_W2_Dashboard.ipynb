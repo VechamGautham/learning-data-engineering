{
 "cells": [
  {
   "cell_type": "markdown",
   "metadata": {},
   "source": [
    "# Serving for Data Analytics"
   ]
  },
  {
   "cell_type": "markdown",
   "metadata": {},
   "source": [
    "In the first part of the lab, you ingested data from a source database and transformed it using AWS Glue. In this notebook, you will serve the transformed data for an analytics example. You will perform data retrieval with Amazon Athena using simple SQL queries and then use the query output to build an interactive dashboard that explores sales data by country and product line."
   ]
  },
  {
   "cell_type": "markdown",
   "metadata": {},
   "source": [
    "Import all of the required packages."
   ]
  },
  {
   "cell_type": "code",
   "execution_count": 1,
   "metadata": {
    "vscode": {
     "languageId": "python"
    }
   },
   "outputs": [],
   "source": [
    "import pandas as pd\n",
    "import awswrangler as wr\n",
    "import seaborn as sns\n",
    "import ipywidgets as widgets\n",
    "from IPython.display import display\n",
    "import warnings"
   ]
  },
  {
   "cell_type": "markdown",
   "metadata": {},
   "source": [
    "After you have executed the AWS Glue job, a new database named `de-c1w2-analytics-db` was created and stored in the S3 instance. This database contains four tables with the following schema:\n",
    "\n",
    "![image alt ><](./images/schema_after_ETL.png)\n",
    "\n",
    "Each row in the `fact_orders` table corresponds to a sale order and contains related measurements such as quantity ordered and price. The dimension tables provide more context and details for each sale order such as customers' information, customers' locations, and order details. Your data is now ready to be served for analytics. To query this data from S3, you will use Amazon Athena. Let's check the data stored in the `dim_products` table:"
   ]
  },
  {
   "cell_type": "code",
   "execution_count": 2,
   "metadata": {
    "vscode": {
     "languageId": "python"
    }
   },
   "outputs": [
    {
     "name": "stderr",
     "output_type": "stream",
     "text": [
      "/home/coder/miniconda/lib/python3.12/site-packages/awswrangler/_distributed.py:104: FutureWarning: promote has been superseded by promote_options='default'.\n",
      "  return cls.dispatch_func(func)(*args, **kw)\n"
     ]
    },
    {
     "data": {
      "text/html": [
       "<div>\n",
       "<style scoped>\n",
       "    .dataframe tbody tr th:only-of-type {\n",
       "        vertical-align: middle;\n",
       "    }\n",
       "\n",
       "    .dataframe tbody tr th {\n",
       "        vertical-align: top;\n",
       "    }\n",
       "\n",
       "    .dataframe thead th {\n",
       "        text-align: right;\n",
       "    }\n",
       "</style>\n",
       "<table border=\"1\" class=\"dataframe\">\n",
       "  <thead>\n",
       "    <tr style=\"text-align: right;\">\n",
       "      <th></th>\n",
       "      <th>productcode</th>\n",
       "      <th>productname</th>\n",
       "      <th>productline</th>\n",
       "      <th>productscale</th>\n",
       "      <th>productvendor</th>\n",
       "      <th>productdescription</th>\n",
       "      <th>productlinedescription</th>\n",
       "    </tr>\n",
       "  </thead>\n",
       "  <tbody>\n",
       "    <tr>\n",
       "      <th>0</th>\n",
       "      <td>S18_1889</td>\n",
       "      <td>1948 Porsche 356-A Roadster</td>\n",
       "      <td>Classic Cars</td>\n",
       "      <td>1:18</td>\n",
       "      <td>Gearbox Collectibles</td>\n",
       "      <td>This precision die-cast replica features openi...</td>\n",
       "      <td>Attention car enthusiasts: Make your wildest c...</td>\n",
       "    </tr>\n",
       "    <tr>\n",
       "      <th>1</th>\n",
       "      <td>S12_3891</td>\n",
       "      <td>1969 Ford Falcon</td>\n",
       "      <td>Classic Cars</td>\n",
       "      <td>1:12</td>\n",
       "      <td>Second Gear Diecast</td>\n",
       "      <td>Turnable front wheels; steering function; deta...</td>\n",
       "      <td>Attention car enthusiasts: Make your wildest c...</td>\n",
       "    </tr>\n",
       "    <tr>\n",
       "      <th>2</th>\n",
       "      <td>S24_4048</td>\n",
       "      <td>1992 Porsche Cayenne Turbo Silver</td>\n",
       "      <td>Classic Cars</td>\n",
       "      <td>1:24</td>\n",
       "      <td>Exoto Designs</td>\n",
       "      <td>This replica features opening doors, superb de...</td>\n",
       "      <td>Attention car enthusiasts: Make your wildest c...</td>\n",
       "    </tr>\n",
       "    <tr>\n",
       "      <th>3</th>\n",
       "      <td>S24_3191</td>\n",
       "      <td>1969 Chevrolet Camaro Z28</td>\n",
       "      <td>Classic Cars</td>\n",
       "      <td>1:24</td>\n",
       "      <td>Exoto Designs</td>\n",
       "      <td>1969 Z/28 Chevy Camaro 1:24 scale replica. The...</td>\n",
       "      <td>Attention car enthusiasts: Make your wildest c...</td>\n",
       "    </tr>\n",
       "    <tr>\n",
       "      <th>4</th>\n",
       "      <td>S12_4675</td>\n",
       "      <td>1969 Dodge Charger</td>\n",
       "      <td>Classic Cars</td>\n",
       "      <td>1:12</td>\n",
       "      <td>Welly Diecast Productions</td>\n",
       "      <td>Detailed model of the 1969 Dodge Charger. This...</td>\n",
       "      <td>Attention car enthusiasts: Make your wildest c...</td>\n",
       "    </tr>\n",
       "  </tbody>\n",
       "</table>\n",
       "</div>"
      ],
      "text/plain": [
       "  productcode                        productname   productline productscale  \\\n",
       "0    S18_1889        1948 Porsche 356-A Roadster  Classic Cars         1:18   \n",
       "1    S12_3891                   1969 Ford Falcon  Classic Cars         1:12   \n",
       "2    S24_4048  1992 Porsche Cayenne Turbo Silver  Classic Cars         1:24   \n",
       "3    S24_3191          1969 Chevrolet Camaro Z28  Classic Cars         1:24   \n",
       "4    S12_4675                 1969 Dodge Charger  Classic Cars         1:12   \n",
       "\n",
       "               productvendor  \\\n",
       "0       Gearbox Collectibles   \n",
       "1        Second Gear Diecast   \n",
       "2              Exoto Designs   \n",
       "3              Exoto Designs   \n",
       "4  Welly Diecast Productions   \n",
       "\n",
       "                                  productdescription  \\\n",
       "0  This precision die-cast replica features openi...   \n",
       "1  Turnable front wheels; steering function; deta...   \n",
       "2  This replica features opening doors, superb de...   \n",
       "3  1969 Z/28 Chevy Camaro 1:24 scale replica. The...   \n",
       "4  Detailed model of the 1969 Dodge Charger. This...   \n",
       "\n",
       "                              productlinedescription  \n",
       "0  Attention car enthusiasts: Make your wildest c...  \n",
       "1  Attention car enthusiasts: Make your wildest c...  \n",
       "2  Attention car enthusiasts: Make your wildest c...  \n",
       "3  Attention car enthusiasts: Make your wildest c...  \n",
       "4  Attention car enthusiasts: Make your wildest c...  "
      ]
     },
     "execution_count": 2,
     "metadata": {},
     "output_type": "execute_result"
    }
   ],
   "source": [
    "GLUE_DATABASE = \"de-c1w2-analytics-db\"\n",
    "\n",
    "products_df = wr.athena.read_sql_query(\n",
    "    \"\"\"\n",
    "    SELECT * FROM dim_products\n",
    "    \"\"\",\n",
    "    database=GLUE_DATABASE,\n",
    ")\n",
    "    \n",
    "products_df.head()"
   ]
  },
  {
   "cell_type": "markdown",
   "metadata": {},
   "source": [
    "You can get some data insights by aggregating some sale measurements from the fact table. In the following cell, you will compute the total sales amount spent by each country and display the top 10 records:"
   ]
  },
  {
   "cell_type": "code",
   "execution_count": 3,
   "metadata": {
    "vscode": {
     "languageId": "python"
    }
   },
   "outputs": [
    {
     "name": "stderr",
     "output_type": "stream",
     "text": [
      "/home/coder/miniconda/lib/python3.12/site-packages/awswrangler/_distributed.py:104: FutureWarning: promote has been superseded by promote_options='default'.\n",
      "  return cls.dispatch_func(func)(*args, **kw)\n"
     ]
    },
    {
     "data": {
      "text/html": [
       "<div>\n",
       "<style scoped>\n",
       "    .dataframe tbody tr th:only-of-type {\n",
       "        vertical-align: middle;\n",
       "    }\n",
       "\n",
       "    .dataframe tbody tr th {\n",
       "        vertical-align: top;\n",
       "    }\n",
       "\n",
       "    .dataframe thead th {\n",
       "        text-align: right;\n",
       "    }\n",
       "</style>\n",
       "<table border=\"1\" class=\"dataframe\">\n",
       "  <thead>\n",
       "    <tr style=\"text-align: right;\">\n",
       "      <th></th>\n",
       "      <th>country</th>\n",
       "      <th>total_sales</th>\n",
       "    </tr>\n",
       "  </thead>\n",
       "  <tbody>\n",
       "    <tr>\n",
       "      <th>9</th>\n",
       "      <td>USA</td>\n",
       "      <td>13057249.77</td>\n",
       "    </tr>\n",
       "    <tr>\n",
       "      <th>11</th>\n",
       "      <td>Spain</td>\n",
       "      <td>1099389.09</td>\n",
       "    </tr>\n",
       "    <tr>\n",
       "      <th>15</th>\n",
       "      <td>France</td>\n",
       "      <td>1007374.02</td>\n",
       "    </tr>\n",
       "    <tr>\n",
       "      <th>17</th>\n",
       "      <td>Australia</td>\n",
       "      <td>562582.59</td>\n",
       "    </tr>\n",
       "    <tr>\n",
       "      <th>10</th>\n",
       "      <td>UK</td>\n",
       "      <td>436947.44</td>\n",
       "    </tr>\n",
       "    <tr>\n",
       "      <th>14</th>\n",
       "      <td>Italy</td>\n",
       "      <td>335258.49</td>\n",
       "    </tr>\n",
       "    <tr>\n",
       "      <th>18</th>\n",
       "      <td>Finland</td>\n",
       "      <td>295149.35</td>\n",
       "    </tr>\n",
       "    <tr>\n",
       "      <th>4</th>\n",
       "      <td>Singapore</td>\n",
       "      <td>263997.78</td>\n",
       "    </tr>\n",
       "    <tr>\n",
       "      <th>1</th>\n",
       "      <td>Denmark</td>\n",
       "      <td>218994.92</td>\n",
       "    </tr>\n",
       "    <tr>\n",
       "      <th>13</th>\n",
       "      <td>Canada</td>\n",
       "      <td>205911.86</td>\n",
       "    </tr>\n",
       "  </tbody>\n",
       "</table>\n",
       "</div>"
      ],
      "text/plain": [
       "      country  total_sales\n",
       "9         USA  13057249.77\n",
       "11      Spain   1099389.09\n",
       "15     France   1007374.02\n",
       "17  Australia    562582.59\n",
       "10         UK    436947.44\n",
       "14      Italy    335258.49\n",
       "18    Finland    295149.35\n",
       "4   Singapore    263997.78\n",
       "1     Denmark    218994.92\n",
       "13     Canada    205911.86"
      ]
     },
     "execution_count": 3,
     "metadata": {},
     "output_type": "execute_result"
    }
   ],
   "source": [
    "# Retrieve total sales per country by joining the 'fact_orders' table with 'dim_locations' on postal code.\n",
    "# The result is grouped by the 'country' column, and the total sales for each country is calculated as the sum of order amounts.\n",
    "# The query is executed using Athena through the 'wr.athena.read_sql_query' method, and the top 10 countries with the highest total sales are displayed.\n",
    "product_sales_by_country_df = wr.athena.read_sql_query(\n",
    "    \"\"\"\n",
    "    SELECT\n",
    "        dim_locations.country,\n",
    "        SUM(fact_orders.orderAmount) AS total_sales\n",
    "    FROM\n",
    "        fact_orders\n",
    "    JOIN\n",
    "        dim_locations ON fact_orders.postalCode = dim_locations.postalCode\n",
    "    GROUP BY 1\n",
    "    \"\"\",\n",
    "    database=GLUE_DATABASE,\n",
    ")\n",
    "    \n",
    "product_sales_by_country_df.sort_values(\"total_sales\", ascending=False).head(10)"
   ]
  },
  {
   "cell_type": "markdown",
   "metadata": {},
   "source": [
    "Now you will combine data from three tables: `fact_orders`, `dim_products`, and `dim_locations`. The query will select the order date, product line, product name, country, and total sales amount, grouping the results by order date, product line, product name, and country:"
   ]
  },
  {
   "cell_type": "code",
   "execution_count": 5,
   "metadata": {
    "vscode": {
     "languageId": "python"
    }
   },
   "outputs": [
    {
     "name": "stderr",
     "output_type": "stream",
     "text": [
      "/home/coder/miniconda/lib/python3.12/site-packages/awswrangler/_distributed.py:104: FutureWarning: promote has been superseded by promote_options='default'.\n",
      "  return cls.dispatch_func(func)(*args, **kw)\n"
     ]
    },
    {
     "data": {
      "text/html": [
       "<div>\n",
       "<style scoped>\n",
       "    .dataframe tbody tr th:only-of-type {\n",
       "        vertical-align: middle;\n",
       "    }\n",
       "\n",
       "    .dataframe tbody tr th {\n",
       "        vertical-align: top;\n",
       "    }\n",
       "\n",
       "    .dataframe thead th {\n",
       "        text-align: right;\n",
       "    }\n",
       "</style>\n",
       "<table border=\"1\" class=\"dataframe\">\n",
       "  <thead>\n",
       "    <tr style=\"text-align: right;\">\n",
       "      <th></th>\n",
       "      <th>orderdate</th>\n",
       "      <th>productline</th>\n",
       "      <th>productname</th>\n",
       "      <th>country</th>\n",
       "      <th>total_sales</th>\n",
       "    </tr>\n",
       "  </thead>\n",
       "  <tbody>\n",
       "    <tr>\n",
       "      <th>0</th>\n",
       "      <td>2004-06-15</td>\n",
       "      <td>Trucks and Buses</td>\n",
       "      <td>1996 Peterbilt 379 Stake Bed with Outrigger</td>\n",
       "      <td>Japan</td>\n",
       "      <td>1254.00</td>\n",
       "    </tr>\n",
       "    <tr>\n",
       "      <th>1</th>\n",
       "      <td>2005-01-26</td>\n",
       "      <td>Classic Cars</td>\n",
       "      <td>1969 Ford Falcon</td>\n",
       "      <td>Japan</td>\n",
       "      <td>4765.10</td>\n",
       "    </tr>\n",
       "    <tr>\n",
       "      <th>2</th>\n",
       "      <td>2004-11-23</td>\n",
       "      <td>Motorcycles</td>\n",
       "      <td>2003 Harley-Davidson Eagle Drag Bike</td>\n",
       "      <td>Japan</td>\n",
       "      <td>6948.63</td>\n",
       "    </tr>\n",
       "    <tr>\n",
       "      <th>3</th>\n",
       "      <td>2004-06-15</td>\n",
       "      <td>Trucks and Buses</td>\n",
       "      <td>1940 Ford Pickup Truck</td>\n",
       "      <td>Japan</td>\n",
       "      <td>4639.97</td>\n",
       "    </tr>\n",
       "    <tr>\n",
       "      <th>4</th>\n",
       "      <td>2005-01-26</td>\n",
       "      <td>Vintage Cars</td>\n",
       "      <td>1904 Buick Runabout</td>\n",
       "      <td>Japan</td>\n",
       "      <td>3238.59</td>\n",
       "    </tr>\n",
       "  </tbody>\n",
       "</table>\n",
       "</div>"
      ],
      "text/plain": [
       "    orderdate       productline                                  productname  \\\n",
       "0  2004-06-15  Trucks and Buses  1996 Peterbilt 379 Stake Bed with Outrigger   \n",
       "1  2005-01-26      Classic Cars                             1969 Ford Falcon   \n",
       "2  2004-11-23       Motorcycles         2003 Harley-Davidson Eagle Drag Bike   \n",
       "3  2004-06-15  Trucks and Buses                       1940 Ford Pickup Truck   \n",
       "4  2005-01-26      Vintage Cars                          1904 Buick Runabout   \n",
       "\n",
       "  country total_sales  \n",
       "0   Japan     1254.00  \n",
       "1   Japan     4765.10  \n",
       "2   Japan     6948.63  \n",
       "3   Japan     4639.97  \n",
       "4   Japan     3238.59  "
      ]
     },
     "execution_count": 5,
     "metadata": {},
     "output_type": "execute_result"
    }
   ],
   "source": [
    "# Retrieve detailed sales information by joining 'fact_orders' with 'dim_products' and 'dim_locations'.\n",
    "# The query selects order date, product line, product name, country, and calculates the total sales (sum of order amounts).\n",
    "# The result is grouped by order date, product line, product name, and country.\n",
    "# The query is executed using Athena through the 'wr.athena.read_sql_query' method, and the resulting DataFrame is displayed with the first few rows using 'head()'.\n",
    "product_sales_df = wr.athena.read_sql_query(\n",
    "    \"\"\"\n",
    "    SELECT\n",
    "        fact_orders.orderDate,\n",
    "        dim_products.productLine,\n",
    "        dim_products.productName,\n",
    "        dim_locations.country,\n",
    "        SUM(fact_orders.orderAmount) AS total_sales\n",
    "    FROM\n",
    "        fact_orders\n",
    "    JOIN\n",
    "        dim_products ON fact_orders.productCode = dim_products.productCode\n",
    "    JOIN\n",
    "        dim_locations ON fact_orders.postalCode = dim_locations.postalCode\n",
    "    GROUP BY 1, 2, 3, 4\n",
    "    \"\"\",\n",
    "    database=GLUE_DATABASE,\n",
    ")\n",
    "    \n",
    "product_sales_df.head()"
   ]
  },
  {
   "cell_type": "markdown",
   "metadata": {},
   "source": [
    "You will now use the query results to build an interactive dashboard using dropdown widgets, where you will be able to select a country and product line, filter the results based on a particular period of sales, showing the top N popular products at the end:"
   ]
  },
  {
   "cell_type": "code",
   "execution_count": 6,
   "metadata": {
    "vscode": {
     "languageId": "python"
    }
   },
   "outputs": [
    {
     "data": {
      "application/vnd.jupyter.widget-view+json": {
       "model_id": "2871133bc8f4498bb812881d4b6658e6",
       "version_major": 2,
       "version_minor": 0
      },
      "text/plain": [
       "interactive(children=(DatePicker(value=Timestamp('2003-01-06 00:00:00'), description='Start Date', step=1), Da…"
      ]
     },
     "metadata": {},
     "output_type": "display_data"
    }
   ],
   "source": [
    "product_sales_df['orderdate'] = pd.to_datetime(product_sales_df['orderdate'])\n",
    "\n",
    "# Ignore warnings for cleaner output\n",
    "warnings.filterwarnings('ignore')\n",
    "\n",
    "# Country Dropdown Widget\n",
    "country_widget = widgets.Dropdown(\n",
    "    options=[\"ALL\"] + sorted(list(product_sales_df.country.unique())),\n",
    "    value=\"ALL\",\n",
    "    description=\"Country\",\n",
    ")\n",
    "\n",
    "# Product Line Dropdown Widget\n",
    "productline_widget = widgets.Dropdown(\n",
    "    options=[\"ALL\"] + sorted(list(product_sales_df.productline.unique())),\n",
    "    value=\"ALL\",\n",
    "    description=\"Product Line\",\n",
    ")\n",
    "\n",
    "# Interactive Widgets for Date Range, Country, Product Line, and Top N\n",
    "@widgets.interact(\n",
    "    start_date=widgets.DatePicker(value=product_sales_df.orderdate.min(), description=\"Start Date\"),\n",
    "    end_date=widgets.DatePicker(value=product_sales_df.orderdate.max(), description=\"End Date\"),\n",
    "    country=country_widget,\n",
    "    productline=productline_widget,\n",
    "    top_n=widgets.IntSlider(value=5, min=1, max=10, step=1, description=\"Top N\"),\n",
    ")\n",
    "\n",
    "# Function to Plot Top N Sales\n",
    "def plot_top_n_sales(start_date, end_date, country, productline, top_n):\n",
    "    \n",
    "    # Filter data based on selected date range\n",
    "    filtered_df = product_sales_df[\n",
    "        (product_sales_df.orderdate >= pd.Timestamp(start_date))\n",
    "        & (product_sales_df.orderdate <= pd.Timestamp(end_date))\n",
    "    ]\n",
    "    filtered_df = filtered_df.drop('orderdate', axis=1)\n",
    "    filtered_df = filtered_df.groupby(['productline', 'productname', 'country']).sum().reset_index()\n",
    "\n",
    "    # Build title string based on selected filters\n",
    "    title_str = f\"Top {top_n} Popular \"\n",
    "    \n",
    "    if productline != \"ALL\":\n",
    "        filtered_df = filtered_df[filtered_df.productline == productline]\n",
    "        title_str += productline\n",
    "    else: \n",
    "        filtered_df = filtered_df.groupby(['productname', 'country']).sum().reset_index()\n",
    "        title_str += \"Products\"\n",
    "        \n",
    "    if country != \"ALL\":\n",
    "        filtered_df = filtered_df[filtered_df.country == country]\n",
    "        title_str += \" in \" + country\n",
    "    else:\n",
    "        filtered_df = filtered_df.groupby(['productname']).sum().reset_index()\n",
    "\n",
    "    # Plotting the bar chart\n",
    "    if not (filtered_df.empty):\n",
    "        try:\n",
    "            ax = sns.barplot(\n",
    "                x=\"total_sales\",\n",
    "                y=\"productname\",\n",
    "                data=filtered_df.sort_values(\"total_sales\", ascending=False).head(top_n)\n",
    "            )\n",
    "        \n",
    "\n",
    "            ax.set(\n",
    "                xlabel=\"Total Sales\",\n",
    "                ylabel=\"Product Name\",\n",
    "                title=title_str\n",
    "            )\n",
    "        except:\n",
    "            print(\"error\")\n",
    "    else:\n",
    "        print(f\"There were no sales of {productline} to {country} during that period\")"
   ]
  },
  {
   "cell_type": "markdown",
   "metadata": {},
   "source": [
    "Fantastic! You can now observe how effortlessly the data can be accessed after having transformed it into a form that is more appropriate for analytics."
   ]
  },
  {
   "cell_type": "code",
   "execution_count": null,
   "metadata": {
    "vscode": {
     "languageId": "python"
    }
   },
   "outputs": [],
   "source": []
  }
 ],
 "metadata": {
  "kernelspec": {
   "display_name": "Python (base)",
   "language": "python",
   "name": "base"
  }
 },
 "nbformat": 4,
 "nbformat_minor": 4
}
