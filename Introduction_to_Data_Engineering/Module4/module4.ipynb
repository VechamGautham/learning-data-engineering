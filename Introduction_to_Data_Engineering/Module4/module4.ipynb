{
 "cells": [
  {
   "cell_type": "markdown",
   "id": "96e054d9",
   "metadata": {},
   "source": [
    "# 📊 Hierarchy of Needs in Data Engineering\n",
    "\n",
    "In this course, we learned that to think like a data engineer, you must follow a structured approach that connects business goals all the way down to technical system design.\n",
    "\n",
    "---\n",
    "\n",
    "## 🧱 Visual Hierarchy\n",
    "\n",
    "![Hierarchy of Needs](./images/hierarchy_of_needs.png)\n",
    "\n",
    "---\n",
    "\n",
    "## 1. 🎯 Business Goals\n",
    "These are the high-level objectives of the company. They define **what success looks like**.\n",
    "\n",
    "**Examples:**\n",
    "- Growing revenue\n",
    "- Growing market share\n",
    "- Growing user base\n",
    "\n",
    "---\n",
    "\n",
    "## 2. 👥 Stakeholder Needs\n",
    "These are the specific needs of teams and individuals (e.g., data scientists, analysts) who use the data.\n",
    "\n",
    "**Examples:**\n",
    "- Access to clean and timely data\n",
    "- Proper tools and resources\n",
    "- Need for robust and scalable data systems\n",
    "\n",
    "---\n",
    "\n",
    "## 3. 🛠️ System Requirements\n",
    "Based on stakeholder needs, the data engineer defines the requirements of the data system.\n",
    "\n",
    "### ✅ Functional Requirements\n",
    "What the system **must do**.\n",
    "- Example: Ingest event data every 5 minutes.\n",
    "- Example: Join customer profiles with purchase logs.\n",
    "\n",
    "### 🛡️ Non-Functional Requirements\n",
    "How the system should **perform**.\n",
    "- Latency\n",
    "- Scalability\n",
    "- Reliability\n",
    "- Cost-efficiency\n",
    "- Security\n",
    "\n",
    "---\n",
    "\n",
    "## 💡 Summary\n",
    "This hierarchy ensures that every technical decision aligns with business goals and user needs. It helps data engineers stay focused on building systems that are:\n",
    "- Purposeful\n",
    "- Scalable\n",
    "- Reliable\n",
    "- Aligned with real-world outcomes\n",
    "\n",
    "---"
   ]
  },
  {
   "cell_type": "markdown",
   "id": "83ee574f",
   "metadata": {},
   "source": []
  }
 ],
 "metadata": {
  "kernelspec": {
   "display_name": ".venv",
   "language": "python",
   "name": "python3"
  },
  "language_info": {
   "name": "python",
   "version": "3.13.3"
  }
 },
 "nbformat": 4,
 "nbformat_minor": 5
}
