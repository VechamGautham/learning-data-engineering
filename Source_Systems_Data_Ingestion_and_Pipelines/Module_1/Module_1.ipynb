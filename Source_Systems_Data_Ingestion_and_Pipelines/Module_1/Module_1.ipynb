{
 "cells": [
  {
   "cell_type": "markdown",
   "id": "05245d69",
   "metadata": {},
   "source": [
    "# 📚 Table of Contents\n",
    "\n",
    "- [Source Systems for Data Ingestion](#source-systems-for-data-ingestion)"
   ]
  },
  {
   "cell_type": "markdown",
   "id": "5c22370f",
   "metadata": {},
   "source": [
    "##  Source Systems for Data Ingestion\n",
    "\n",
    "As a data engineer, one of the core responsibilities is to extract **raw data** from different source systems. This raw data can be **structured**, **semi-structured**, or **unstructured**, and needs to be ingested and processed downstream.\n",
    "\n",
    "---\n",
    "\n",
    "### 🧱 Types of Data\n",
    "\n",
    "There are **three main categories** of data based on structure:\n",
    "\n",
    "- **Structured Data**:  \n",
    "  Data organized as tables of rows and columns.  \n",
    "  *Example*: SQL tables, CSV files.\n",
    "\n",
    "- **Semi-Structured Data**:  \n",
    "  Data not in strict tabular form but still containing structure like tags or keys.  \n",
    "  *Example*: JSON, XML.\n",
    "\n",
    "- **Unstructured Data**:  \n",
    "  Data with no predefined structure.  \n",
    "  *Example*: Text, audio, video, images.\n",
    "\n",
    "![Types of Data](./images/types_of_data.png)\n",
    "\n",
    "---\n",
    "\n",
    "### 🔑 Example: Semi-Structured Data (JSON Format)\n",
    "\n",
    "A common example of semi-structured data is **JSON (JavaScript Object Notation)**, which stores information as a collection of key-value pairs. These can also be **nested**, allowing complex data structures.\n",
    "\n",
    "![Semi-Structured JSON Example](./images/semi_structured.png)\n",
    "\n",
    "---\n",
    "\n",
    "### 🗃️ Where Data is Stored\n",
    "\n",
    "Depending on the structure, data can be stored in various mediums:\n",
    "\n",
    "- **Structured / Semi-Structured**: Stored in relational or NoSQL databases.\n",
    "- **Unstructured**: Stored as files (text, images, audio, etc.).\n",
    "- **Streaming**: Real-time events from producers like sensors or logs.\n",
    "\n",
    "![Source Systems](./images/source_systems.png)\n",
    "\n",
    "---\n",
    "\n",
    "### 🗄️ Relational vs Non-Relational Databases\n",
    "\n",
    "- **Relational Databases (SQL)**:  \n",
    "  Store data in fixed tables (rows and columns). Best for structured data.\n",
    "\n",
    "- **Non-Relational Databases (NoSQL)**:  \n",
    "  Store data in key-value pairs or documents. Good for semi-structured or nested data.\n",
    "\n",
    "![Databases](./images/databases.png)\n",
    "\n",
    "---\n",
    "\n",
    "### 🔁 Putting It All Together: Source System Ingestion\n",
    "\n",
    "Whether from **databases**, **files**, or **streaming systems**, all types of data eventually flow into the **ingestion pipeline**. These source systems are the starting point of the data engineering lifecycle.\n",
    "\n",
    "![Source System Ingestion Overview](./images/source_system_ingestion.png)"
   ]
  },
  {
   "cell_type": "markdown",
   "id": "767b8b08",
   "metadata": {},
   "source": []
  }
 ],
 "metadata": {
  "kernelspec": {
   "display_name": ".venv",
   "language": "python",
   "name": "python3"
  },
  "language_info": {
   "name": "python",
   "version": "3.13.3"
  }
 },
 "nbformat": 4,
 "nbformat_minor": 5
}
