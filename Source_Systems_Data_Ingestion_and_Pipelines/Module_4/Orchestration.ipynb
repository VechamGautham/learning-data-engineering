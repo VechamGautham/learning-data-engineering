{
 "cells": [
  {
   "cell_type": "markdown",
   "id": "90efe29a",
   "metadata": {},
   "source": [
    "# Table of Contents \n",
    "\n",
    "- [Cron Jobs (Before Orchestration)](#cron-jobs-before-orchestration)"
   ]
  },
  {
   "cell_type": "markdown",
   "id": "d7763c68",
   "metadata": {},
   "source": [
    "# Cron Jobs (Before Orchestration)\n",
    "\n",
    "![Cron Logo](./images/cron.png)\n",
    "\n",
    "## What is Cron?\n",
    "**Cron** is a Unix/Linux utility (from the 1970s) that automatically runs commands or scripts on a schedule you define.\n",
    "\n",
    "---\n",
    "\n",
    "## How a Cron Job Works\n",
    "A cron job line has **five timing fields** followed by the command:\n",
    "\n",
    "    MINUTE(0–59) HOUR(0–23) DAY(1–31) MONTH(1–12) WEEKDAY(0–6)  command\n",
    "\n",
    "You can use `*` (asterisk) to mean “any value”.\n",
    "\n",
    "**Examples**\n",
    "- Run at midnight on Jan 1 every year:\n",
    "\n",
    "      0 0 1 1 * echo \"Happy New Year\"\n",
    "\n",
    "- Run every night at midnight:\n",
    "\n",
    "      0 0 * * * python ingest_from_rest_api.py\n",
    "\n",
    "![Cron Fields](./images/cron_work.png)\n",
    "\n",
    "---\n",
    "\n",
    "## Before Orchestration: Pure Scheduling with Cron\n",
    "Teams used to chain data pipeline steps by scheduling **multiple cron jobs** a little apart in time so they’d (hopefully) run in order:\n",
    "\n",
    "- 12:00 AM → ingest API  \n",
    "- 01:00 AM → transform  \n",
    "- 02:00 AM → combine with DB  \n",
    "- 03:00 AM → load to warehouse\n",
    "\n",
    "This is a **pure scheduling approach**—no dependency awareness, just timed starts.\n",
    "\n",
    "---\n",
    "\n",
    "## Problems with Pure Cron Scheduling\n",
    "- ❌ No dependency checks (a 1 AM job runs even if the midnight job failed or ran long)  \n",
    "- ❌ Minimal monitoring/alerting; failures often discovered late  \n",
    "- ❌ Debugging & observability are DIY (logs, alerts, retries)  \n",
    "- ❌ Fragile when task durations vary\n",
    "\n",
    "![Pure Scheduling Drawbacks](./images/pure_scheduiling.png)\n",
    "\n",
    "---\n",
    "\n",
    "## When Cron Is Still a Good Fit\n",
    "- ✅ Simple, independent, recurring tasks (backups, log cleanup, small data fetches)  \n",
    "- ✅ Quick prototypes where a full orchestrator is overkill  \n",
    "- ✅ Environments with very light automation needs\n",
    "\n",
    "**Rule of thumb:** If tasks depend on other tasks finishing, or you need retries, backfills, SLAs, or rich monitoring—use an **orchestration tool** (e.g., Airflow, Prefect, Dagster). Otherwise, Cron is perfectly fine for small periodic jobs."
   ]
  }
 ],
 "metadata": {
  "language_info": {
   "name": "python"
  }
 },
 "nbformat": 4,
 "nbformat_minor": 5
}
