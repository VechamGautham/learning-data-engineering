{
 "cells": [
  {
   "cell_type": "markdown",
   "id": "85240d73",
   "metadata": {},
   "source": [
    "# Table of Contents\n",
    "\n",
    "1. [Life of a Query](#life-of-a-query)"
   ]
  },
  {
   "cell_type": "markdown",
   "id": "691ceedd",
   "metadata": {},
   "source": [
    "# Life of a Query \n",
    "\n",
    "![Life of a Query](./images/life_of_query.png)\n",
    "\n",
    "## Query Flow\n",
    "1. **Query issued** → you submit SQL.  \n",
    "2. **Parsing** → tokenize, syntax/semantic checks, permissions.  \n",
    "3. **Planning/Optimization** → generate multiple plans, estimate cost (I/O, CPU, memory), pick cheapest.  \n",
    "4. **Execution** → execution engine runs chosen plan against the storage engine and returns results.\n",
    "\n",
    "## Core DBMS Components\n",
    "| Component | What it does |\n",
    "|---|---|\n",
    "| **Transport System** | Receives requests from clients. |\n",
    "| **Query Parser** | Breaks SQL into tokens, validates schema names & privileges. |\n",
    "| **Query Optimizer** | Explores strategies (joins, scans, index usage) and chooses the lowest-cost plan. |\n",
    "| **Execution Engine** | Carries out the operations (scans, joins, sorts) in the plan. |\n",
    "| **Storage Engine** | Reads/writes data pages on disk/SSD and manages buffers. |\n",
    "\n",
    "## Seeing the Plan with `EXPLAIN`\n",
    "Use `EXPLAIN` to view the plan (before running) or to understand a slow query (after, with variants like `EXPLAIN ANALYZE`).\n",
    "\n",
    "```sql\n",
    "EXPLAIN SELECT * FROM customer;\n",
    "```\n",
    "\n",
    "- **Plan:** Sequential (full table) scan  \n",
    "- **Typical outputs:** startup cost, total cost, estimated rows, row width\n",
    "\n",
    "![Understanding Query Performance](./images/explain_query.png)\n",
    "\n",
    "```sql\n",
    "EXPLAIN SELECT * \n",
    "FROM customer \n",
    "WHERE customer_id = 3;\n",
    "```\n",
    "\n",
    "- **Plan:** Index scan on `customer_id` (uses the index instead of scanning the whole table)  \n",
    "- **Why faster:** Jumps directly to the matching row(s), reducing I/O → lower **total cost**\n",
    "\n",
    "## Indexes (Why They Matter)\n",
    "An **index** is a side data structure that speeds up lookups (like a book’s index).  \n",
    "- Great for equality filters (`WHERE id = …`) and many range queries  \n",
    "- Trade-off: extra storage + slower writes (index maintenance)\n",
    "\n"
   ]
  }
 ],
 "metadata": {
  "language_info": {
   "name": "python"
  }
 },
 "nbformat": 4,
 "nbformat_minor": 5
}
